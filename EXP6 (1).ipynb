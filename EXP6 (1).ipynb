{
 "cells": [
  {
   "cell_type": "markdown",
   "metadata": {
    "id": "XMYzhNhEi2HF"
   },
   "source": [
    "Name: Aumkar Gadekar <br>\n",
    "Roll No: 21 <br>\n",
    "UID: 2017130023 <br>"
   ]
  },
  {
   "cell_type": "markdown",
   "metadata": {
    "id": "ap9mWHlljCnE"
   },
   "source": [
    "# Exp 6: Fuzzy Sets and Fuzzy Relations\n",
    "\n",
    "### Aim : To implement Fuzzy Sets and Fuzzy Relations"
   ]
  },
  {
   "cell_type": "code",
   "execution_count": 1,
   "metadata": {
    "id": "kgaM1ZB8lZBZ"
   },
   "outputs": [],
   "source": [
    "import numpy as np"
   ]
  },
  {
   "cell_type": "markdown",
   "metadata": {},
   "source": [
    "### Operations on fuzzy sets"
   ]
  },
  {
   "cell_type": "markdown",
   "metadata": {},
   "source": [
    "#### Generating data"
   ]
  },
  {
   "cell_type": "code",
   "execution_count": 14,
   "metadata": {},
   "outputs": [
    {
     "name": "stdout",
     "output_type": "stream",
     "text": [
      "{'a': 0.8996761942822264, 'b': 0.1477007963599527, 'c': 0.9237136367464366, 'd': 0.3323894664998439, 'e': 0.9423081565267528}\n",
      "{'a': 0.1763402667461309, 'b': 0.9096751523168559, 'c': 0.3665132283539606, 'd': 0.8515511837753403, 'e': 0.22965547188727997}\n"
     ]
    }
   ],
   "source": [
    "membership1=np.random.rand(5)\n",
    "membership2=np.random.rand(5)\n",
    "\n",
    "members=['a','b','c','d','e']\n",
    "s1 = dict(zip(members, membership1)) \n",
    "s2 = dict(zip(members, membership2)) \n",
    "print(s1)\n",
    "print(s2)"
   ]
  },
  {
   "cell_type": "markdown",
   "metadata": {},
   "source": [
    "#### Union"
   ]
  },
  {
   "cell_type": "code",
   "execution_count": 17,
   "metadata": {
    "id": "3PCRup2cS_tV"
   },
   "outputs": [],
   "source": [
    "def union(s1,s2):\n",
    "    union=dict()\n",
    "    for i in s1:\n",
    "        union[i]=max(s1[i],s2[i])\n",
    "    return union"
   ]
  },
  {
   "cell_type": "code",
   "execution_count": 18,
   "metadata": {
    "colab": {
     "base_uri": "https://localhost:8080/",
     "height": 101
    },
    "id": "AdrFX6HEj-0O",
    "outputId": "8a871cfc-a3a1-422a-8ea8-84e445dab8bf"
   },
   "outputs": [
    {
     "data": {
      "text/plain": [
       "{'a': 0.8996761942822264,\n",
       " 'b': 0.9096751523168559,\n",
       " 'c': 0.9237136367464366,\n",
       " 'd': 0.8515511837753403,\n",
       " 'e': 0.9423081565267528}"
      ]
     },
     "execution_count": 18,
     "metadata": {},
     "output_type": "execute_result"
    }
   ],
   "source": [
    "union(s1,s2)"
   ]
  },
  {
   "cell_type": "markdown",
   "metadata": {},
   "source": [
    "#### Intersection"
   ]
  },
  {
   "cell_type": "code",
   "execution_count": 19,
   "metadata": {
    "id": "7N2X0ZsVXSye"
   },
   "outputs": [],
   "source": [
    "def intersection(s1,s2):\n",
    "    intersection=dict()\n",
    "    for i in s1:\n",
    "        intersection[i]=min(s1[i],s2[i])\n",
    "    return intersection"
   ]
  },
  {
   "cell_type": "code",
   "execution_count": 20,
   "metadata": {
    "colab": {
     "base_uri": "https://localhost:8080/",
     "height": 101
    },
    "id": "PhzV5m-PkDu4",
    "outputId": "abbb63d3-2b59-4ffd-ce3d-a20fa931c991"
   },
   "outputs": [
    {
     "data": {
      "text/plain": [
       "{'a': 0.1763402667461309,\n",
       " 'b': 0.1477007963599527,\n",
       " 'c': 0.3665132283539606,\n",
       " 'd': 0.3323894664998439,\n",
       " 'e': 0.22965547188727997}"
      ]
     },
     "execution_count": 20,
     "metadata": {},
     "output_type": "execute_result"
    }
   ],
   "source": [
    "intersection(s1,s2)"
   ]
  },
  {
   "cell_type": "markdown",
   "metadata": {},
   "source": [
    "#### Complement"
   ]
  },
  {
   "cell_type": "code",
   "execution_count": 21,
   "metadata": {
    "id": "ENGhJqEPX7Xg"
   },
   "outputs": [],
   "source": [
    "def complement(s1):\n",
    "    complement=dict()\n",
    "    for i in s1:\n",
    "        complement[i]=1-s1[i]\n",
    "    return complement"
   ]
  },
  {
   "cell_type": "code",
   "execution_count": 22,
   "metadata": {
    "colab": {
     "base_uri": "https://localhost:8080/",
     "height": 101
    },
    "id": "n6QWuz1EkGkS",
    "outputId": "a9de01e2-d023-4a7f-f1c6-757370172daf"
   },
   "outputs": [
    {
     "data": {
      "text/plain": [
       "{'a': 0.10032380571777355,\n",
       " 'b': 0.8522992036400473,\n",
       " 'c': 0.07628636325356342,\n",
       " 'd': 0.6676105335001561,\n",
       " 'e': 0.057691843473247184}"
      ]
     },
     "execution_count": 22,
     "metadata": {},
     "output_type": "execute_result"
    }
   ],
   "source": [
    "complement(s1)"
   ]
  },
  {
   "cell_type": "markdown",
   "metadata": {},
   "source": [
    "#### Difference"
   ]
  },
  {
   "cell_type": "code",
   "execution_count": 25,
   "metadata": {},
   "outputs": [],
   "source": [
    "def difference(s1,s2):\n",
    "    diff=dict()\n",
    "    c=complement(s2)\n",
    "    for i in s1:\n",
    "        diff[i]=min(s1[i],c[i])\n",
    "    return diff"
   ]
  },
  {
   "cell_type": "code",
   "execution_count": 26,
   "metadata": {},
   "outputs": [
    {
     "data": {
      "text/plain": [
       "{'a': 0.8236597332538691,\n",
       " 'b': 0.09032484768314408,\n",
       " 'c': 0.6334867716460394,\n",
       " 'd': 0.14844881622465966,\n",
       " 'e': 0.77034452811272}"
      ]
     },
     "execution_count": 26,
     "metadata": {},
     "output_type": "execute_result"
    }
   ],
   "source": [
    "difference(s1,s2)"
   ]
  },
  {
   "cell_type": "code",
   "execution_count": 27,
   "metadata": {},
   "outputs": [
    {
     "data": {
      "text/plain": [
       "{'a': 0.10032380571777355,\n",
       " 'b': 0.8522992036400473,\n",
       " 'c': 0.07628636325356342,\n",
       " 'd': 0.6676105335001561,\n",
       " 'e': 0.057691843473247184}"
      ]
     },
     "execution_count": 27,
     "metadata": {},
     "output_type": "execute_result"
    }
   ],
   "source": [
    "difference(s2,s1)"
   ]
  },
  {
   "cell_type": "markdown",
   "metadata": {},
   "source": [
    "#### Cartesian product"
   ]
  },
  {
   "cell_type": "code",
   "execution_count": 50,
   "metadata": {
    "id": "zeYX12R7ZUUV"
   },
   "outputs": [],
   "source": [
    "def cartesian(s1,s2):\n",
    "    cart=np.zeros((5,5))\n",
    "    k1=list(s1.keys())\n",
    "    k2=list(s2.keys())\n",
    "    for i in range(len(s1)):\n",
    "        for j in range(len(s2)):\n",
    "            cart[i,j]=min(s1[k1[i]],s2[k2[j]])\n",
    "    return cart"
   ]
  },
  {
   "cell_type": "code",
   "execution_count": 51,
   "metadata": {
    "colab": {
     "base_uri": "https://localhost:8080/",
     "height": 101
    },
    "id": "mf9j2C5JaSdT",
    "outputId": "baeb2726-cdf8-4d72-b155-e745e47a5d72"
   },
   "outputs": [
    {
     "data": {
      "text/plain": [
       "array([[0.17634027, 0.89967619, 0.36651323, 0.85155118, 0.22965547],\n",
       "       [0.1477008 , 0.1477008 , 0.1477008 , 0.1477008 , 0.1477008 ],\n",
       "       [0.17634027, 0.90967515, 0.36651323, 0.85155118, 0.22965547],\n",
       "       [0.17634027, 0.33238947, 0.33238947, 0.33238947, 0.22965547],\n",
       "       [0.17634027, 0.90967515, 0.36651323, 0.85155118, 0.22965547]])"
      ]
     },
     "execution_count": 51,
     "metadata": {},
     "output_type": "execute_result"
    }
   ],
   "source": [
    "np.array(cartesian(s1,s2))"
   ]
  },
  {
   "cell_type": "markdown",
   "metadata": {},
   "source": [
    "### Operations on fuzzy relations"
   ]
  },
  {
   "cell_type": "markdown",
   "metadata": {},
   "source": [
    "#### Generating data"
   ]
  },
  {
   "cell_type": "code",
   "execution_count": 63,
   "metadata": {
    "colab": {
     "base_uri": "https://localhost:8080/",
     "height": 168
    },
    "id": "R6fDZFk5bMNg",
    "outputId": "3592dc37-049b-4df4-85df-77eb6dff08b5"
   },
   "outputs": [
    {
     "name": "stdout",
     "output_type": "stream",
     "text": [
      "r1:  [[0.19902997 0.11516313 0.708757   0.0263181  0.21484903]\n",
      " [0.86315236 0.68601418 0.370065   0.92664925 0.07100615]\n",
      " [0.03050529 0.14634883 0.68615107 0.07817835 0.33375369]\n",
      " [0.62621268 0.30525483 0.81067289 0.81070508 0.12277594]]\n",
      "r2:  [[0.18340702 0.19787972 0.43245863 0.59599088]\n",
      " [0.3039868  0.49108931 0.64270064 0.58107577]\n",
      " [0.87763895 0.11350131 0.86549691 0.47192411]\n",
      " [0.43985492 0.97329782 0.94092709 0.75535336]\n",
      " [0.4326582  0.77463646 0.46212274 0.79443611]]\n"
     ]
    }
   ],
   "source": [
    "r1 = np.random.rand(4,5)\n",
    "r2 = np.random.rand(5,4)\n",
    "print(\"r1: \", r1)\n",
    "print(\"r2: \", r2)"
   ]
  },
  {
   "cell_type": "markdown",
   "metadata": {},
   "source": [
    "#### Max-min composition"
   ]
  },
  {
   "cell_type": "code",
   "execution_count": 68,
   "metadata": {
    "id": "TOG-SX2Zd6QD"
   },
   "outputs": [],
   "source": [
    "def maxMinComp(r1,r2):\n",
    "    t = []\n",
    "    for i in range(len(r1)):\n",
    "        temp = []\n",
    "        for k in range(len(r2[0])):\n",
    "            mx = []\n",
    "            for j in range(len(r1[0])):\n",
    "                mx.append(min(r1[i][j],r2[j][k]))\n",
    "            m = max(mx)\n",
    "            temp.append(m)\n",
    "    t.append(temp)\n",
    "    return t"
   ]
  },
  {
   "cell_type": "code",
   "execution_count": 69,
   "metadata": {
    "colab": {
     "base_uri": "https://localhost:8080/",
     "height": 84
    },
    "id": "gMkNyBgMejcA",
    "outputId": "4cae4b15-7a9d-4625-cdbb-213cae3a0211"
   },
   "outputs": [
    {
     "data": {
      "text/plain": [
       "array([[0.81067289, 0.81070508, 0.81070508, 0.75535336]])"
      ]
     },
     "execution_count": 69,
     "metadata": {},
     "output_type": "execute_result"
    }
   ],
   "source": [
    "np.array(maxMinComp(r1, r2))"
   ]
  },
  {
   "cell_type": "markdown",
   "metadata": {},
   "source": [
    "#### Max product Composition"
   ]
  },
  {
   "cell_type": "code",
   "execution_count": 70,
   "metadata": {
    "id": "Gslc5bGEeq1f"
   },
   "outputs": [],
   "source": [
    "def maxProdComp(r1, r2):\n",
    "    t = []\n",
    "    for i in range(len(r1)):\n",
    "        temp = []\n",
    "        for k in range(len(r2[0])):\n",
    "            max_prod = []\n",
    "            for j in range(len(r1[0])):\n",
    "                max_prod.append(r1[i][j]*r2[j][k])\n",
    "            m = max(max_prod)\n",
    "            temp.append(m)\n",
    "        t.append(temp)\n",
    "    return t  "
   ]
  },
  {
   "cell_type": "code",
   "execution_count": 71,
   "metadata": {
    "colab": {
     "base_uri": "https://localhost:8080/",
     "height": 84
    },
    "id": "QG4NmJaAhE6q",
    "outputId": "28d4ef57-2e49-48f4-d9fd-9620cd167dfe"
   },
   "outputs": [
    {
     "data": {
      "text/plain": [
       "array([[0.62203275, 0.16642989, 0.613427  , 0.33447952],\n",
       "       [0.40759124, 0.9019057 , 0.87190939, 0.69994763],\n",
       "       [0.6021929 , 0.25853778, 0.59386163, 0.32381124],\n",
       "       [0.7114781 , 0.78905749, 0.76281438, 0.61236881]])"
      ]
     },
     "execution_count": 71,
     "metadata": {},
     "output_type": "execute_result"
    }
   ],
   "source": [
    "np.array(maxProdComp(r1, r2))"
   ]
  },
  {
   "cell_type": "markdown",
   "metadata": {
    "id": "AcMGplnJiLpe"
   },
   "source": [
    "### Conclusion:\n",
    "\n",
    "#### Fuzzy operations were understoond and implemented on Fuzzy sets as well as relations.\n",
    "\n",
    "* Operations implemented on Fuzzy Sets: Union, Intersection, Complement, Cartesian product, Difference\n",
    "\n",
    "* Operations implemented on Fuzzy Relations: Max min compostion, Max product compostion"
   ]
  }
 ],
 "metadata": {
  "colab": {
   "name": "EXP6_AISC_19.ipynb",
   "provenance": []
  },
  "kernelspec": {
   "display_name": "Python 3",
   "language": "python",
   "name": "python3"
  },
  "language_info": {
   "codemirror_mode": {
    "name": "ipython",
    "version": 3
   },
   "file_extension": ".py",
   "mimetype": "text/x-python",
   "name": "python",
   "nbconvert_exporter": "python",
   "pygments_lexer": "ipython3",
   "version": "3.7.3"
  }
 },
 "nbformat": 4,
 "nbformat_minor": 1
}
